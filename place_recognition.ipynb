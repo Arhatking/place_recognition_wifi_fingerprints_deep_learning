{
 "cells": [
  {
   "cell_type": "code",
   "execution_count": 220,
   "metadata": {
    "collapsed": false
   },
   "outputs": [],
   "source": [
    "import pandas as pd\n",
    "import tensorflow as tf\n",
    "import numpy as np\n",
    "from sklearn.preprocessing import scale\n",
    "from keras.models import Sequential\n",
    "from keras.layers import Dense, Dropout"
   ]
  },
  {
   "cell_type": "code",
   "execution_count": 221,
   "metadata": {
    "collapsed": true
   },
   "outputs": [],
   "source": [
    "path_train = \"UJIndoorLoc/trainingData.csv\"\n",
    "path_validation = \"UJIndoorLoc/validationData.csv\""
   ]
  },
  {
   "cell_type": "code",
   "execution_count": 222,
   "metadata": {
    "collapsed": false
   },
   "outputs": [],
   "source": [
    "#Explicitly pass header=0 to be able to replace existing names \n",
    "train_df = pd.read_csv(path_train,header = 0)\n",
    "train_df = train_df[:19930]\n",
    "train_AP_strengths = train_df.ix[:,:520] #select first 520 columns\n",
    "\n",
    "#Scale transforms data to center to the mean and component wise scale to unit variance\n",
    "train_AP_features = scale(np.asarray(train_AP_strengths))\n",
    "\n",
    "#The following two objects are actually pandas.core.series.Series objects\n",
    "building_ids_str = train_df[\"BUILDINGID\"].map(str) #convert all the building ids to strings\n",
    "building_floors_str = train_df[\"FLOOR\"].map(str) #convert all the building floors to strings\n",
    "\n",
    "res = building_ids_str + building_floors_str #element wise concatenation of BUILDINGID+FLOOR\n",
    "train_labels = np.asarray(building_ids_str + building_floors_str)\n",
    "\n",
    "#convert labels to categorical variables, dummy_labels has type 'pandas.core.frame.DataFrame'\n",
    "#categorical => no intrinsic ordering \n",
    "dummy_labels = pd.get_dummies(train_labels)\n",
    "\n",
    "\"\"\"\n",
    "#corresponding column names\n",
    "dummies = \"00  01  02  03  10  11  12  13  20  21  22  23  24\".split() \n",
    "\"\"\"\n",
    "\n",
    "\"\"\"one hot encode the dummy_labels.\n",
    "this is done because dummy_labels is a dataframe with the labels (BUILDINGID+FLOOR) \n",
    "as the column names\n",
    "\"\"\"\n",
    "train_labels = np.asarray(dummy_labels) #labels is an array of shape 19937 x 13. (there are 13 types of labels)"
   ]
  },
  {
   "cell_type": "code",
   "execution_count": 223,
   "metadata": {
    "collapsed": false
   },
   "outputs": [],
   "source": [
    "#generate len(AP_features) of floats in between 0 and 1\n",
    "train_val_split = np.random.rand(len(AP_features))\n",
    "#convert train_val_split to an array of booleans: if elem < 0.7 = true, else: false\n",
    "train_val_split = train_val_split < 0.70 #should contain ~70% percent true"
   ]
  },
  {
   "cell_type": "markdown",
   "metadata": {},
   "source": [
    "We aren't given a formal testing set, so we will treat the given validation set as the testing set"
   ]
  },
  {
   "cell_type": "code",
   "execution_count": 224,
   "metadata": {
    "collapsed": false
   },
   "outputs": [],
   "source": [
    "# We will then split our given training set into training + validation \n",
    "train_X = AP_features[train_val_split]\n",
    "train_y = labels[train_val_split]\n",
    "val_X = AP_features[~train_val_split]\n",
    "val_y = labels[~train_val_split]"
   ]
  },
  {
   "cell_type": "code",
   "execution_count": 225,
   "metadata": {
    "collapsed": false
   },
   "outputs": [
    {
     "data": {
      "text/plain": [
       "(19930, 529)"
      ]
     },
     "execution_count": 225,
     "metadata": {},
     "output_type": "execute_result"
    }
   ],
   "source": [
    "train_df.shape"
   ]
  },
  {
   "cell_type": "code",
   "execution_count": 226,
   "metadata": {
    "collapsed": true
   },
   "outputs": [],
   "source": [
    "#Turn the given validation set into a testing set\n",
    "test_df = pd.read_csv(path_validation,header = 0)\n",
    "test_AP_features = scale(np.asarray(test_df.ix[:,0:520]))\n",
    "test_labels = np.asarray(test_df[\"BUILDINGID\"].map(str) + test_df[\"FLOOR\"].map(str))\n",
    "test_labels = np.asarray(pd.get_dummies(test_labels))"
   ]
  },
  {
   "cell_type": "code",
   "execution_count": 227,
   "metadata": {
    "collapsed": true
   },
   "outputs": [],
   "source": [
    "nb_epochs = 20\n",
    "batch_size = 10\n",
    "input_size = 520\n",
    "num_classes = 13"
   ]
  },
  {
   "cell_type": "code",
   "execution_count": 228,
   "metadata": {
    "collapsed": false
   },
   "outputs": [],
   "source": [
    "def encoder():\n",
    "    model = Sequential()\n",
    "    model.add(Dense(256, input_dim=input_size, activation='tanh', bias=True))\n",
    "    model.add(Dense(128, activation='tanh', bias=True))\n",
    "    model.add(Dense(64, activation='tanh', bias=True))\n",
    "    return model"
   ]
  },
  {
   "cell_type": "code",
   "execution_count": 229,
   "metadata": {
    "collapsed": true
   },
   "outputs": [],
   "source": [
    "def decoder(e):   \n",
    "    e.add(Dense(128, input_dim=64, activation='tanh', bias=True))\n",
    "    e.add(Dense(256, activation='tanh', bias=True))\n",
    "    e.add(Dense(input_size, activation='tanh', bias=True))\n",
    "    e.compile(optimizer='adam', loss='mse')\n",
    "    return e\n",
    "    "
   ]
  },
  {
   "cell_type": "code",
   "execution_count": 230,
   "metadata": {
    "collapsed": true
   },
   "outputs": [],
   "source": [
    "e = encoder()"
   ]
  },
  {
   "cell_type": "code",
   "execution_count": 231,
   "metadata": {
    "collapsed": true
   },
   "outputs": [],
   "source": [
    "d = decoder(e)"
   ]
  },
  {
   "cell_type": "code",
   "execution_count": 232,
   "metadata": {
    "collapsed": false
   },
   "outputs": [
    {
     "name": "stdout",
     "output_type": "stream",
     "text": [
      "____________________________________________________________________________________________________\n",
      "Layer (type)                     Output Shape          Param #     Connected to                     \n",
      "====================================================================================================\n",
      "dense_93 (Dense)                 (None, 256)           133376      dense_input_16[0][0]             \n",
      "____________________________________________________________________________________________________\n",
      "dense_94 (Dense)                 (None, 128)           32896       dense_93[0][0]                   \n",
      "____________________________________________________________________________________________________\n",
      "dense_95 (Dense)                 (None, 64)            8256        dense_94[0][0]                   \n",
      "____________________________________________________________________________________________________\n",
      "dense_96 (Dense)                 (None, 128)           8320        dense_95[0][0]                   \n",
      "____________________________________________________________________________________________________\n",
      "dense_97 (Dense)                 (None, 256)           33024       dense_96[0][0]                   \n",
      "____________________________________________________________________________________________________\n",
      "dense_98 (Dense)                 (None, 520)           133640      dense_97[0][0]                   \n",
      "====================================================================================================\n",
      "Total params: 349512\n",
      "____________________________________________________________________________________________________\n"
     ]
    }
   ],
   "source": [
    "d.summary()"
   ]
  },
  {
   "cell_type": "code",
   "execution_count": 233,
   "metadata": {
    "collapsed": false
   },
   "outputs": [
    {
     "name": "stdout",
     "output_type": "stream",
     "text": [
      "Epoch 1/20\n",
      "14035/14035 [==============================] - 12s - loss: 0.7133    \n",
      "Epoch 2/20\n",
      "14035/14035 [==============================] - 12s - loss: 0.6888    \n",
      "Epoch 3/20\n",
      "14035/14035 [==============================] - 12s - loss: 0.6830    \n",
      "Epoch 4/20\n",
      "14035/14035 [==============================] - 12s - loss: 0.6799    \n",
      "Epoch 5/20\n",
      "14035/14035 [==============================] - 12s - loss: 0.6777    \n",
      "Epoch 6/20\n",
      "14035/14035 [==============================] - 12s - loss: 0.6758    \n",
      "Epoch 7/20\n",
      "14035/14035 [==============================] - 12s - loss: 0.6744    \n",
      "Epoch 8/20\n",
      "14035/14035 [==============================] - 12s - loss: 0.6729    \n",
      "Epoch 9/20\n",
      "14035/14035 [==============================] - 12s - loss: 0.6717    \n",
      "Epoch 10/20\n",
      "14035/14035 [==============================] - 12s - loss: 0.6707    \n",
      "Epoch 11/20\n",
      "14035/14035 [==============================] - 13s - loss: 0.6697    \n",
      "Epoch 12/20\n",
      "14035/14035 [==============================] - 13s - loss: 0.6686    \n",
      "Epoch 13/20\n",
      "14035/14035 [==============================] - 13s - loss: 0.6678    \n",
      "Epoch 14/20\n",
      "14035/14035 [==============================] - 13s - loss: 0.6671    \n",
      "Epoch 15/20\n",
      "14035/14035 [==============================] - 13s - loss: 0.6663    \n",
      "Epoch 16/20\n",
      "14035/14035 [==============================] - 13s - loss: 0.6656    \n",
      "Epoch 17/20\n",
      "14035/14035 [==============================] - 16s - loss: 0.6651    \n",
      "Epoch 18/20\n",
      "14035/14035 [==============================] - 14s - loss: 0.6644    \n",
      "Epoch 19/20\n",
      "14035/14035 [==============================] - 13s - loss: 0.6639    \n",
      "Epoch 20/20\n",
      "14035/14035 [==============================] - 13s - loss: 0.6635    \n"
     ]
    },
    {
     "data": {
      "text/plain": [
       "<keras.callbacks.History at 0x1228fd410>"
      ]
     },
     "execution_count": 233,
     "metadata": {},
     "output_type": "execute_result"
    }
   ],
   "source": [
    "d.fit(train_X, train_X, nb_epoch=nb_epochs, batch_size=batch_size)"
   ]
  },
  {
   "cell_type": "code",
   "execution_count": 234,
   "metadata": {
    "collapsed": true
   },
   "outputs": [],
   "source": [
    "def classifier(d):\n",
    "    num_to_remove = 3\n",
    "    for i in range(num_to_remove):\n",
    "        d.pop()\n",
    "    d.add(Dense(128, input_dim=64, activation='tanh', bias=True))\n",
    "    d.add(Dense(128, activation='tanh', bias=True))\n",
    "    d.add(Dense(num_classes, activation='softmax', bias=True))\n",
    "    d.compile(optimizer='adam', loss='categorical_crossentropy',metrics=['accuracy'])\n",
    "    return d"
   ]
  },
  {
   "cell_type": "code",
   "execution_count": 235,
   "metadata": {
    "collapsed": false
   },
   "outputs": [],
   "source": [
    "c = classifier(d)"
   ]
  },
  {
   "cell_type": "code",
   "execution_count": 236,
   "metadata": {
    "collapsed": false
   },
   "outputs": [
    {
     "name": "stdout",
     "output_type": "stream",
     "text": [
      "Train on 14035 samples, validate on 5902 samples\n",
      "Epoch 1/20\n",
      "14035/14035 [==============================] - 11s - loss: 0.3195 - acc: 0.8861 - val_loss: 0.2068 - val_acc: 0.9287\n",
      "Epoch 2/20\n",
      "14035/14035 [==============================] - 10s - loss: 0.1306 - acc: 0.9557 - val_loss: 0.1510 - val_acc: 0.9473\n",
      "Epoch 3/20\n",
      "14035/14035 [==============================] - 10s - loss: 0.1065 - acc: 0.9637 - val_loss: 0.1322 - val_acc: 0.9568\n",
      "Epoch 4/20\n",
      "14035/14035 [==============================] - 10s - loss: 0.0898 - acc: 0.9698 - val_loss: 0.1342 - val_acc: 0.9610\n",
      "Epoch 5/20\n",
      "14035/14035 [==============================] - 11s - loss: 0.0790 - acc: 0.9724 - val_loss: 0.1886 - val_acc: 0.9448\n",
      "Epoch 6/20\n",
      "14035/14035 [==============================] - 11s - loss: 0.0711 - acc: 0.9774 - val_loss: 0.1362 - val_acc: 0.9610\n",
      "Epoch 7/20\n",
      "14035/14035 [==============================] - 11s - loss: 0.0652 - acc: 0.9768 - val_loss: 0.1704 - val_acc: 0.9556\n",
      "Epoch 8/20\n",
      "14035/14035 [==============================] - 11s - loss: 0.0665 - acc: 0.9776 - val_loss: 0.1256 - val_acc: 0.9620\n",
      "Epoch 9/20\n",
      "14035/14035 [==============================] - 11s - loss: 0.0523 - acc: 0.9814 - val_loss: 0.1327 - val_acc: 0.9639\n",
      "Epoch 10/20\n",
      "14035/14035 [==============================] - 11s - loss: 0.0572 - acc: 0.9819 - val_loss: 0.1440 - val_acc: 0.9619\n",
      "Epoch 11/20\n",
      "14035/14035 [==============================] - 11s - loss: 0.0487 - acc: 0.9845 - val_loss: 0.1396 - val_acc: 0.9627\n",
      "Epoch 12/20\n",
      "14035/14035 [==============================] - 11s - loss: 0.0463 - acc: 0.9838 - val_loss: 0.1487 - val_acc: 0.9587\n",
      "Epoch 13/20\n",
      "14035/14035 [==============================] - 11s - loss: 0.0444 - acc: 0.9852 - val_loss: 0.1539 - val_acc: 0.9602\n",
      "Epoch 14/20\n",
      "14035/14035 [==============================] - 11s - loss: 0.0494 - acc: 0.9835 - val_loss: 0.1550 - val_acc: 0.9620\n",
      "Epoch 15/20\n",
      "14035/14035 [==============================] - 11s - loss: 0.0486 - acc: 0.9844 - val_loss: 0.1599 - val_acc: 0.9593\n",
      "Epoch 16/20\n",
      "14035/14035 [==============================] - 12s - loss: 0.0394 - acc: 0.9867 - val_loss: 0.1574 - val_acc: 0.9617\n",
      "Epoch 17/20\n",
      "14035/14035 [==============================] - 12s - loss: 0.0405 - acc: 0.9854 - val_loss: 0.1588 - val_acc: 0.9615\n",
      "Epoch 18/20\n",
      "14035/14035 [==============================] - 12s - loss: 0.0360 - acc: 0.9865 - val_loss: 0.1473 - val_acc: 0.9656\n",
      "Epoch 19/20\n",
      "14035/14035 [==============================] - 12s - loss: 0.0355 - acc: 0.9874 - val_loss: 0.1551 - val_acc: 0.9651\n",
      "Epoch 20/20\n",
      "14035/14035 [==============================] - 11s - loss: 0.0356 - acc: 0.9886 - val_loss: 0.1414 - val_acc: 0.9651\n"
     ]
    },
    {
     "data": {
      "text/plain": [
       "<keras.callbacks.History at 0x122e06b50>"
      ]
     },
     "execution_count": 236,
     "metadata": {},
     "output_type": "execute_result"
    }
   ],
   "source": [
    "c.fit(train_X, train_y, validation_data=(val_X, val_y), nb_epoch=nb_epochs, batch_size=batch_size)\n"
   ]
  },
  {
   "cell_type": "code",
   "execution_count": 244,
   "metadata": {
    "collapsed": false
   },
   "outputs": [
    {
     "name": "stdout",
     "output_type": "stream",
     "text": [
      "1088/1111 [============================>.] - ETA: 0s"
     ]
    }
   ],
   "source": [
    "loss, acc = c.evaluate(test_AP_features, test_labels)"
   ]
  },
  {
   "cell_type": "code",
   "execution_count": 246,
   "metadata": {
    "collapsed": false
   },
   "outputs": [
    {
     "name": "stdout",
     "output_type": "stream",
     "text": [
      "____________________________________________________________________________________________________\n",
      "Layer (type)                     Output Shape          Param #     Connected to                     \n",
      "====================================================================================================\n",
      "dense_93 (Dense)                 (None, 256)           133376      dense_input_16[0][0]             \n",
      "____________________________________________________________________________________________________\n",
      "dense_94 (Dense)                 (None, 128)           32896       dense_93[0][0]                   \n",
      "____________________________________________________________________________________________________\n",
      "dense_95 (Dense)                 (None, 64)            8256        dense_94[0][0]                   \n",
      "____________________________________________________________________________________________________\n",
      "dense_99 (Dense)                 (None, 128)           8320        dense_95[0][0]                   \n",
      "____________________________________________________________________________________________________\n",
      "dense_100 (Dense)                (None, 128)           16512       dense_99[0][0]                   \n",
      "____________________________________________________________________________________________________\n",
      "dense_101 (Dense)                (None, 13)            1677        dense_100[0][0]                  \n",
      "====================================================================================================\n",
      "Total params: 201037\n",
      "____________________________________________________________________________________________________\n"
     ]
    }
   ],
   "source": [
    "c.summary()"
   ]
  },
  {
   "cell_type": "code",
   "execution_count": null,
   "metadata": {
    "collapsed": true
   },
   "outputs": [],
   "source": []
  }
 ],
 "metadata": {
  "kernelspec": {
   "display_name": "Python 2",
   "language": "python",
   "name": "python2"
  },
  "language_info": {
   "codemirror_mode": {
    "name": "ipython",
    "version": 2
   },
   "file_extension": ".py",
   "mimetype": "text/x-python",
   "name": "python",
   "nbconvert_exporter": "python",
   "pygments_lexer": "ipython2",
   "version": "2.7.10"
  }
 },
 "nbformat": 4,
 "nbformat_minor": 1
}
