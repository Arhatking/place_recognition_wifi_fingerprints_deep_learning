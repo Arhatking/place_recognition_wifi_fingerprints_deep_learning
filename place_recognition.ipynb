{
 "cells": [
  {
   "cell_type": "code",
   "execution_count": 10,
   "metadata": {
    "collapsed": false
   },
   "outputs": [],
   "source": [
    "import pandas as pd\n",
    "import tensorflow as tf\n",
    "import numpy as np\n",
    "from sklearn.preprocessing import scale\n",
    "from keras.models import Sequential\n",
    "from keras.layers import Dense, Dropout"
   ]
  },
  {
   "cell_type": "code",
   "execution_count": 11,
   "metadata": {
    "collapsed": true
   },
   "outputs": [],
   "source": [
    "path_train = \"UJIndoorLoc/trainingData.csv\"\n",
    "path_validation = \"UJIndoorLoc/validationData.csv\""
   ]
  },
  {
   "cell_type": "code",
   "execution_count": 12,
   "metadata": {
    "collapsed": false
   },
   "outputs": [],
   "source": [
    "#Explicitly pass header=0 to be able to replace existing names \n",
    "train_df = pd.read_csv(path_train,header = 0)\n",
    "train_df = train_df[:19930]\n",
    "train_AP_strengths = train_df.ix[:,:520] #select first 520 columns\n",
    "\n",
    "#Scale transforms data to center to the mean and component wise scale to unit variance\n",
    "train_AP_features = scale(np.asarray(train_AP_strengths))\n",
    "\n",
    "#The following two objects are actually pandas.core.series.Series objects\n",
    "building_ids_str = train_df[\"BUILDINGID\"].map(str) #convert all the building ids to strings\n",
    "building_floors_str = train_df[\"FLOOR\"].map(str) #convert all the building floors to strings\n",
    "\n",
    "res = building_ids_str + building_floors_str #element wise concatenation of BUILDINGID+FLOOR\n",
    "train_labels = np.asarray(building_ids_str + building_floors_str)\n",
    "\n",
    "#convert labels to categorical variables, dummy_labels has type 'pandas.core.frame.DataFrame'\n",
    "dummy_labels = pd.get_dummies(train_labels)\n",
    "\n",
    "\n",
    "\"\"\"one hot encode the dummy_labels.\n",
    "this is done because dummy_labels is a dataframe with the labels (BUILDINGID+FLOOR) \n",
    "as the column names\n",
    "\"\"\"\n",
    "train_labels = np.asarray(dummy_labels) #labels is an array of shape 19937 x 13. (there are 13 types of labels)"
   ]
  },
  {
   "cell_type": "code",
   "execution_count": 13,
   "metadata": {
    "collapsed": false
   },
   "outputs": [],
   "source": [
    "#generate len(train_AP_features) of floats in between 0 and 1\n",
    "train_val_split = np.random.rand(len(train_AP_features))\n",
    "#convert train_val_split to an array of booleans: if elem < 0.7 = true, else: false\n",
    "train_val_split = train_val_split < 0.70 #should contain ~70% percent true"
   ]
  },
  {
   "cell_type": "markdown",
   "metadata": {},
   "source": [
    "We aren't given a formal testing set, so we will treat the given validation set as the testing set"
   ]
  },
  {
   "cell_type": "code",
   "execution_count": 14,
   "metadata": {
    "collapsed": false
   },
   "outputs": [],
   "source": [
    "# We will then split our given training set into training + validation \n",
    "train_X = train_AP_features[train_val_split]\n",
    "train_y = train_labels[train_val_split]\n",
    "val_X = train_AP_features[~train_val_split]\n",
    "val_y = train_labels[~train_val_split]"
   ]
  },
  {
   "cell_type": "code",
   "execution_count": 15,
   "metadata": {
    "collapsed": true
   },
   "outputs": [],
   "source": [
    "#Turn the given validation set into a testing set\n",
    "test_df = pd.read_csv(path_validation,header = 0)\n",
    "test_AP_features = scale(np.asarray(test_df.ix[:,0:520]))\n",
    "test_labels = np.asarray(test_df[\"BUILDINGID\"].map(str) + test_df[\"FLOOR\"].map(str))\n",
    "test_labels = np.asarray(pd.get_dummies(test_labels))"
   ]
  },
  {
   "cell_type": "code",
   "execution_count": 16,
   "metadata": {
    "collapsed": true
   },
   "outputs": [],
   "source": [
    "nb_epochs = 20\n",
    "batch_size = 10\n",
    "input_size = 520\n",
    "num_classes = 13"
   ]
  },
  {
   "cell_type": "code",
   "execution_count": 17,
   "metadata": {
    "collapsed": false
   },
   "outputs": [],
   "source": [
    "def encoder():\n",
    "    model = Sequential()\n",
    "    model.add(Dense(256, input_dim=input_size, activation='tanh', bias=True))\n",
    "    model.add(Dense(128, activation='tanh', bias=True))\n",
    "    model.add(Dense(64, activation='tanh', bias=True))\n",
    "    return model"
   ]
  },
  {
   "cell_type": "code",
   "execution_count": 18,
   "metadata": {
    "collapsed": true
   },
   "outputs": [],
   "source": [
    "def decoder(e):   \n",
    "    e.add(Dense(128, input_dim=64, activation='tanh', bias=True))\n",
    "    e.add(Dense(256, activation='tanh', bias=True))\n",
    "    e.add(Dense(input_size, activation='tanh', bias=True))\n",
    "    e.compile(optimizer='adam', loss='mse')\n",
    "    return e\n",
    "    "
   ]
  },
  {
   "cell_type": "code",
   "execution_count": 19,
   "metadata": {
    "collapsed": true
   },
   "outputs": [],
   "source": [
    "e = encoder()"
   ]
  },
  {
   "cell_type": "code",
   "execution_count": 20,
   "metadata": {
    "collapsed": true
   },
   "outputs": [],
   "source": [
    "d = decoder(e)"
   ]
  },
  {
   "cell_type": "code",
   "execution_count": 21,
   "metadata": {
    "collapsed": false
   },
   "outputs": [
    {
     "name": "stdout",
     "output_type": "stream",
     "text": [
      "Epoch 1/20\n",
      "13827/13827 [==============================] - 12s - loss: 0.7052    \n",
      "Epoch 2/20\n",
      "13827/13827 [==============================] - 12s - loss: 0.6817    \n",
      "Epoch 3/20\n",
      "13827/13827 [==============================] - 12s - loss: 0.6759    \n",
      "Epoch 4/20\n",
      "13827/13827 [==============================] - 13s - loss: 0.6727    \n",
      "Epoch 5/20\n",
      "13827/13827 [==============================] - 13s - loss: 0.6704    \n",
      "Epoch 6/20\n",
      "13827/13827 [==============================] - 13s - loss: 0.6684    \n",
      "Epoch 7/20\n",
      "13827/13827 [==============================] - 13s - loss: 0.6669    \n",
      "Epoch 8/20\n",
      "13827/13827 [==============================] - 13s - loss: 0.6654    \n",
      "Epoch 9/20\n",
      "13827/13827 [==============================] - 13s - loss: 0.6642    \n",
      "Epoch 10/20\n",
      "13827/13827 [==============================] - 12s - loss: 0.6631    \n",
      "Epoch 11/20\n",
      "13827/13827 [==============================] - 13s - loss: 0.6622    \n",
      "Epoch 12/20\n",
      "13827/13827 [==============================] - 13s - loss: 0.6611    \n",
      "Epoch 13/20\n",
      "13827/13827 [==============================] - 13s - loss: 0.6605    \n",
      "Epoch 14/20\n",
      "13827/13827 [==============================] - 14s - loss: 0.6597    \n",
      "Epoch 15/20\n",
      "13827/13827 [==============================] - 11s - loss: 0.6588    \n",
      "Epoch 16/20\n",
      "13827/13827 [==============================] - 11s - loss: 0.6585    \n",
      "Epoch 17/20\n",
      "13827/13827 [==============================] - 13s - loss: 0.6577    \n",
      "Epoch 18/20\n",
      "13827/13827 [==============================] - 13s - loss: 0.6572    \n",
      "Epoch 19/20\n",
      "13827/13827 [==============================] - 13s - loss: 0.6567    \n",
      "Epoch 20/20\n",
      "13827/13827 [==============================] - 13s - loss: 0.6561    \n"
     ]
    },
    {
     "data": {
      "text/plain": [
       "<keras.callbacks.History at 0x10ed116d0>"
      ]
     },
     "execution_count": 21,
     "metadata": {},
     "output_type": "execute_result"
    }
   ],
   "source": [
    "d.fit(train_X, train_X, nb_epoch=nb_epochs, batch_size=batch_size)"
   ]
  },
  {
   "cell_type": "code",
   "execution_count": 22,
   "metadata": {
    "collapsed": true
   },
   "outputs": [],
   "source": [
    "def classifier(d):\n",
    "    num_to_remove = 3\n",
    "    for i in range(num_to_remove):\n",
    "        d.pop()\n",
    "    d.add(Dense(128, input_dim=64, activation='tanh', bias=True))\n",
    "    d.add(Dense(128, activation='tanh', bias=True))\n",
    "    d.add(Dense(num_classes, activation='softmax', bias=True))\n",
    "    d.compile(optimizer='adam', loss='categorical_crossentropy',metrics=['accuracy'])\n",
    "    return d"
   ]
  },
  {
   "cell_type": "code",
   "execution_count": 23,
   "metadata": {
    "collapsed": false
   },
   "outputs": [],
   "source": [
    "c = classifier(d)"
   ]
  },
  {
   "cell_type": "code",
   "execution_count": 24,
   "metadata": {
    "collapsed": false
   },
   "outputs": [
    {
     "name": "stdout",
     "output_type": "stream",
     "text": [
      "Train on 13827 samples, validate on 6103 samples\n",
      "Epoch 1/20\n",
      "13827/13827 [==============================] - 10s - loss: 0.3211 - acc: 0.8862 - val_loss: 0.2488 - val_acc: 0.9135\n",
      "Epoch 2/20\n",
      "13827/13827 [==============================] - 10s - loss: 0.1381 - acc: 0.9518 - val_loss: 0.1407 - val_acc: 0.9512\n",
      "Epoch 3/20\n",
      "13827/13827 [==============================] - 10s - loss: 0.1066 - acc: 0.9634 - val_loss: 0.1823 - val_acc: 0.9451\n",
      "Epoch 4/20\n",
      "13827/13827 [==============================] - 10s - loss: 0.0977 - acc: 0.9666 - val_loss: 0.1467 - val_acc: 0.9536\n",
      "Epoch 5/20\n",
      "13827/13827 [==============================] - 11s - loss: 0.0710 - acc: 0.9761 - val_loss: 0.1584 - val_acc: 0.9508\n",
      "Epoch 6/20\n",
      "13827/13827 [==============================] - 11s - loss: 0.0768 - acc: 0.9739 - val_loss: 0.1314 - val_acc: 0.9623\n",
      "Epoch 7/20\n",
      "13827/13827 [==============================] - 11s - loss: 0.0790 - acc: 0.9743 - val_loss: 0.1361 - val_acc: 0.9585\n",
      "Epoch 8/20\n",
      "13827/13827 [==============================] - 11s - loss: 0.0564 - acc: 0.9811 - val_loss: 0.1270 - val_acc: 0.9626\n",
      "Epoch 9/20\n",
      "13827/13827 [==============================] - 11s - loss: 0.0588 - acc: 0.9799 - val_loss: 0.1330 - val_acc: 0.9620\n",
      "Epoch 10/20\n",
      "13827/13827 [==============================] - 12s - loss: 0.0591 - acc: 0.9812 - val_loss: 0.1568 - val_acc: 0.9563\n",
      "Epoch 11/20\n",
      "13827/13827 [==============================] - 9s - loss: 0.0553 - acc: 0.9818 - val_loss: 0.1309 - val_acc: 0.9625\n",
      "Epoch 12/20\n",
      "13827/13827 [==============================] - 8s - loss: 0.0470 - acc: 0.9839 - val_loss: 0.1336 - val_acc: 0.9649\n",
      "Epoch 13/20\n",
      "13827/13827 [==============================] - 9s - loss: 0.0548 - acc: 0.9813 - val_loss: 0.1281 - val_acc: 0.9640\n",
      "Epoch 14/20\n",
      "13827/13827 [==============================] - 10s - loss: 0.0497 - acc: 0.9827 - val_loss: 0.1601 - val_acc: 0.9572\n",
      "Epoch 15/20\n",
      "13827/13827 [==============================] - 11s - loss: 0.0468 - acc: 0.9845 - val_loss: 0.1328 - val_acc: 0.9687\n",
      "Epoch 16/20\n",
      "13827/13827 [==============================] - 11s - loss: 0.0463 - acc: 0.9850 - val_loss: 0.1286 - val_acc: 0.9643\n",
      "Epoch 17/20\n",
      "13827/13827 [==============================] - 11s - loss: 0.0372 - acc: 0.9879 - val_loss: 0.1365 - val_acc: 0.9643\n",
      "Epoch 18/20\n",
      "13827/13827 [==============================] - 10s - loss: 0.0424 - acc: 0.9845 - val_loss: 0.1414 - val_acc: 0.9613\n",
      "Epoch 19/20\n",
      "13827/13827 [==============================] - 11s - loss: 0.0354 - acc: 0.9876 - val_loss: 0.1477 - val_acc: 0.9661\n",
      "Epoch 20/20\n",
      "13827/13827 [==============================] - 10s - loss: 0.0443 - acc: 0.9855 - val_loss: 0.2026 - val_acc: 0.9528\n"
     ]
    },
    {
     "data": {
      "text/plain": [
       "<keras.callbacks.History at 0x111f9fa50>"
      ]
     },
     "execution_count": 24,
     "metadata": {},
     "output_type": "execute_result"
    }
   ],
   "source": [
    "c.fit(train_X, train_y, validation_data=(val_X, val_y), nb_epoch=nb_epochs, batch_size=batch_size)"
   ]
  },
  {
   "cell_type": "code",
   "execution_count": 27,
   "metadata": {
    "collapsed": false
   },
   "outputs": [
    {
     "name": "stdout",
     "output_type": "stream",
     "text": [
      "1111/1111 [==============================] - 0s     \n"
     ]
    }
   ],
   "source": [
    "loss, acc = c.evaluate(test_AP_features, test_labels)"
   ]
  },
  {
   "cell_type": "code",
   "execution_count": 28,
   "metadata": {
    "collapsed": false
   },
   "outputs": [
    {
     "name": "stdout",
     "output_type": "stream",
     "text": [
      "1.53804068433 0.714671467361\n"
     ]
    }
   ],
   "source": [
    "print loss, acc"
   ]
  }
 ],
 "metadata": {
  "kernelspec": {
   "display_name": "Python 2",
   "language": "python",
   "name": "python2"
  },
  "language_info": {
   "codemirror_mode": {
    "name": "ipython",
    "version": 2
   },
   "file_extension": ".py",
   "mimetype": "text/x-python",
   "name": "python",
   "nbconvert_exporter": "python",
   "pygments_lexer": "ipython2",
   "version": "2.7.10"
  }
 },
 "nbformat": 4,
 "nbformat_minor": 1
}
